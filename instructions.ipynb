{
 "cells": [
  {
   "cell_type": "markdown",
   "metadata": {},
   "source": [
    "# ECHAM6 executable"
   ]
  },
  {
   "cell_type": "markdown",
   "metadata": {},
   "source": [
    "Checkout tagging branch and compile\n",
    "\n",
    "    https://gitlab.awi.de/paleodyn/Models/echam6/-/tree/tagging"
   ]
  },
  {
   "cell_type": "markdown",
   "metadata": {},
   "source": [
    "# Example yaml script"
   ]
  },
  {
   "cell_type": "markdown",
   "metadata": {},
   "source": [
    "On ollie:\n",
    "\n",
    "    /work/ollie/qigao001/scratch/test/share/pi_echam6_1m.yaml"
   ]
  },
  {
   "cell_type": "markdown",
   "metadata": {},
   "source": [
    "## Explanation"
   ]
  },
  {
   "cell_type": "markdown",
   "metadata": {},
   "source": [
    "echam::executable\n",
    "\n",
    "    excutable compiled from the latest tagging branch\n",
    "\n",
    "echam::add_namelist_changes::namelist.echam::wisoctl::\n",
    "\n",
    "    nwiso: number of water tracers to use\n",
    "    ntag/ntag1-5: only for development, set to 0\n",
    "\n",
    "    ntags1_lat: number of water tracers for latitude, set to 3\n",
    "    ntags2_lon: only for development, set to 0\n",
    "    ntags3_sst/ntags4_rh2m/ntags5_wind10: number of water tracers for sea surface temperature, 2-metre relative humidity, and 10-metre wind speed, set to 3\n",
    "    ntag_geo7: set to 7, water tracers for Antarctica, NH/SH land, ocean and sea ice\n",
    "    ntags6_sinlon/ntags7_coslon: number of water tracers for sin and cos of longitude, set to 3\n",
    "    ntag_sum: 25, =nwiso-3\n",
    "\n",
    "    lupdate_tagmap: True (so tagmap will be updated at each timestep)\n",
    "    tag_minsst: 268.15, minimum scaling factor for SST, similar for below\n",
    "    tag_maxsst: 318.15\n",
    "    tag_minrh2m: 0\n",
    "    tag_maxrh2m: 1.6\n",
    "    tag_minwind10: 0\n",
    "    tag_maxwind10: 28.0\n",
    "\n",
    "echam::forcing_sources::\n",
    "\n",
    "    wiso_tagmap_1:: tagmap created for PI condition. Depending on land-sea mask\n",
    "\n",
    "\n",
    "\n"
   ]
  },
  {
   "cell_type": "markdown",
   "metadata": {},
   "source": [
    "# Water tracing method"
   ]
  },
  {
   "cell_type": "markdown",
   "metadata": {},
   "source": [
    "To trace each variable (e.g. SST), we need three water tracers:\n",
    "\n",
    "    1) The first tracer traces evaporation from land and sea ice.\n",
    "    2) The second tracer traces evaporation from open ocean, and the evaporation is scaled by the desired variable as E*(SST - tag_minsst)/(tag_maxsst - tag_minsst). Here E means evaporation.\n",
    "    3) The third tracer is complementary to the second one over open ocean. It traces scaled evaporation from open ocean as E * [1 - (SST - tag_minsst)/(tag_maxsst - tag_minsst)]\n",
    "\n",
    "To calculate precipitation-weighted open-oceanic source variables (e.g. SST)\n",
    "\n",
    "    pre_weighted_var = var_scaled_pre / ocean_pre.values * (max_sf - min_sf) + min_sf\n",
    "\n",
    "where var_scaled_pre is the precipitation from the second water tracer, ocean_pre is the the sum of water from the second and third tracers, max_sf and min_sf are the scaling factors. For latitude and sin/cos longitude, max_sf is 1 and min_sf is -1.\n",
    "\n",
    "In the output, wiso variables (e.g. wisoaprt) will have 28 wisotypes. The first three is for water isotopes. The next three are three water tracers for latitude, and so on. You can also check through the tagmap.\n",
    "\n",
    "Below is a python function to recover source properties."
   ]
  },
  {
   "cell_type": "code",
   "execution_count": null,
   "metadata": {},
   "outputs": [],
   "source": [
    "def source_properties(\n",
    "    var_scaled_pre, ocean_pre, min_sf, max_sf, var_name,\n",
    "    prefix = 'pre_weighted_', threshold = 2e-8,\n",
    "    ):\n",
    "    '''\n",
    "    #---- Input\n",
    "    var_scaled_pre : xarray.DataArray, precipitation scaled with var\n",
    "    ocean_pre      : xarray.DataArray, open-oceanic precipitation\n",
    "    min_sf         : parameter, minimum scaling factors\n",
    "    max_sf         : parameter, maximum scaling factors\n",
    "    var_name       : variable name\n",
    "    \n",
    "    #---- Output\n",
    "    pre_weighted_var : precipitation-weighted open-oceanic source properties\n",
    "    \n",
    "    '''\n",
    "    \n",
    "    #---- Import packages\n",
    "    import numpy as np\n",
    "    \n",
    "    #---- estimation on original time intervals\n",
    "    pre_weighted_var = (var_scaled_pre / ocean_pre.values * (max_sf - min_sf) + min_sf).compute()\n",
    "    pre_weighted_var.values[ocean_pre.values < threshold] = np.nan\n",
    "    pre_weighted_var = pre_weighted_var.rename(prefix + var_name)\n",
    "    \n",
    "    if (var_name == 'sst'):\n",
    "        pre_weighted_var.values[:] = pre_weighted_var.values[:] - 273.15\n",
    "    \n",
    "    if (var_name == 'rh2m'):\n",
    "        pre_weighted_var.values[:] = pre_weighted_var.values[:] * 100\n",
    "    \n",
    "    return(pre_weighted_var)\n"
   ]
  }
 ],
 "metadata": {
  "language_info": {
   "name": "python"
  },
  "orig_nbformat": 4
 },
 "nbformat": 4,
 "nbformat_minor": 2
}
